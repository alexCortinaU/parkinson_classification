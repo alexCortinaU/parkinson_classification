{
 "cells": [
  {
   "cell_type": "code",
   "execution_count": 1,
   "metadata": {},
   "outputs": [],
   "source": [
    "from PIL import Image\n",
    "import pandas as pd\n",
    "import matplotlib.pyplot as plt\n",
    "from pathlib import Path\n",
    "import torchio as tio\n",
    "import nibabel as nib\n",
    "import SimpleITK as sitk\n",
    "from scipy.stats import iqr\n",
    "from scipy.stats import f_oneway\n",
    "\n",
    "import os\n",
    "import json\n",
    "import numpy as np\n",
    "import copy\n",
    "from matplotlib.colors import LinearSegmentedColormap\n",
    "import seaborn as sns\n",
    "# import nipype.interfaces.ants as npants\n",
    "import ants\n",
    "\n",
    "this_path = Path(os.getcwd())"
   ]
  },
  {
   "cell_type": "code",
   "execution_count": null,
   "metadata": {},
   "outputs": [],
   "source": [
    "%%bash\n",
    "export ITK_GLOBAL_DEFAULT_NUMBER_OF_THREADS=2"
   ]
  },
  {
   "cell_type": "code",
   "execution_count": 2,
   "metadata": {},
   "outputs": [
    {
     "name": "stdout",
     "output_type": "stream",
     "text": [
      "['/mnt/projects/7TPD/bids/derivatives/hMRI_acu/derivatives/hMRI/sub-003/Results/brain_masked/sub-003_ses-01prisma3t_echo-01_part-magnitude-acq-MToff_MPM_R1_w.nii', '/mnt/projects/7TPD/bids/derivatives/hMRI_acu/derivatives/hMRI/sub-004/Results/brain_masked/sub-004_ses-01prisma3t_echo-01_part-magnitude-acq-MToff_MPM_R1_w.nii', '/mnt/projects/7TPD/bids/derivatives/hMRI_acu/derivatives/hMRI/sub-005/Results/brain_masked/sub-005_ses-01prisma3t_echo-01_part-magnitude-acq-MToff_MPM_R1_w.nii'] 3\n"
     ]
    }
   ],
   "source": [
    "md_df = pd.read_csv('/mrhome/alejandrocu/Documents/parkinson_classification/bids_3t.csv')\n",
    "md_df_hc = md_df[md_df['group'] == 0]\n",
    "md_df_pd = md_df[md_df['group'] == 1]\n",
    "\n",
    "subj_ids = md_df['id'].values\n",
    "subj_ids = np.delete(subj_ids, np.where(subj_ids == 'sub-058'))\n",
    "\n",
    "subj_paths = []\n",
    "for idx, subj in enumerate(subj_ids):\n",
    "    base_path = Path(f'/mnt/projects/7TPD/bids/derivatives/hMRI_acu/derivatives/hMRI/{subj}/Results/brain_masked')\n",
    "    subj_paths.append(str(base_path / f'{subj}_ses-01prisma3t_echo-01_part-magnitude-acq-MToff_MPM_R1_w.nii'))\n",
    "    if idx > 1:\n",
    "        break\n",
    "print(subj_paths, len(subj_paths))\n",
    "\n",
    "mov_img_path = Path('/mnt/projects/7TPD/bids/derivatives/hMRI_acu/mni_PD25_20170213_nifti/PD25-T1MPRAGE-template-1mm.nii')\n",
    "atlas_img_path = Path('/mnt/projects/7TPD/bids/derivatives/hMRI_acu/mni_PD25_20170213_nifti/PD25-subcortical-1mm.nii')\n",
    "atls_img = ants.image_read(str(atlas_img_path))"
   ]
  },
  {
   "cell_type": "code",
   "execution_count": 3,
   "metadata": {},
   "outputs": [],
   "source": [
    "fi = ants.image_read(str(mov_img_path))\n",
    "mi = ants.image_read(subj_paths[0])\n",
    "out_path = f'/mnt/projects/7TPD/bids/derivatives/hMRI_acu/derivatives/hMRI/sub-003/Results/antsreg/test'\n",
    "mytx = ants.registration(fixed=fi, moving=mi, type_of_transform = 'SyNRA', outprefix= out_path)\n"
   ]
  },
  {
   "cell_type": "code",
   "execution_count": 5,
   "metadata": {},
   "outputs": [],
   "source": [
    "warped_image = ants.apply_transforms(fixed=fi, moving=mi, transformlist=mytx['fwdtransforms'])\n",
    "ants.image_write(warped_image, f'{out_path}_warped.nii')"
   ]
  },
  {
   "cell_type": "code",
   "execution_count": 6,
   "metadata": {},
   "outputs": [],
   "source": [
    "# warping atlas\n",
    "warped_atlas = ants.apply_transforms(fixed=mi, moving=atls_img, transformlist=mytx['invtransforms'], interpolator='genericLabel')\n",
    "ants.image_write(warped_atlas, f'{out_path}_warped_atlas.nii')"
   ]
  },
  {
   "cell_type": "code",
   "execution_count": 12,
   "metadata": {},
   "outputs": [],
   "source": [
    "# full pipe loop\n",
    "md_df = pd.read_csv('/mrhome/alejandrocu/Documents/parkinson_classification/bids_3t.csv')\n",
    "md_df_hc = md_df[md_df['group'] == 0]\n",
    "md_df_pd = md_df[md_df['group'] == 1]\n",
    "\n",
    "subj_ids = md_df['id'].values\n",
    "subj_ids = np.delete(subj_ids, np.where(subj_ids == 'sub-058'))\n",
    "\n",
    "pd25template_path = Path('/mnt/projects/7TPD/bids/derivatives/hMRI_acu/mni_PD25_20170213_nifti/PD25-T1MPRAGE-template-1mm.nii')\n",
    "pdlabels_path = Path('/mnt/projects/7TPD/bids/derivatives/hMRI_acu/mni_PD25_20170213_nifti/PD25-subcortical-1mm.nii')\n",
    "pdlabels_img = ants.image_read(str(pdlabels_path))\n",
    "\n",
    "exp_name = 'synra_CC'\n",
    "for idx, subj in enumerate(subj_ids):\n",
    "# subj = 'sub-015'\n",
    "    print(subj)\n",
    "    base_path = Path(f'/mnt/projects/7TPD/bids/derivatives/hMRI_acu/derivatives/hMRI/{subj}/Results/brain_masked')\n",
    "    r1_map_path = base_path / f'{subj}_ses-01prisma3t_echo-01_part-magnitude-acq-MToff_MPM_R1_w.nii'\n",
    "    fi = ants.image_read(str(pd25template_path))\n",
    "    mi = ants.image_read(str(r1_map_path))\n",
    "    out_path = base_path.parent / 'antsreg'\n",
    "    out_path.mkdir(parents=True, exist_ok=True)\n",
    "    mytx = ants.registration(fixed=fi, moving=mi,\n",
    "                             type_of_transform = 'SyNRA', #'antsRegistrationSyNQuick[s]',\n",
    "                             outprefix= str(out_path / exp_name),\n",
    "                             syn_metric = 'CC')\n",
    "    save_dict = {'fwdtransforms': mytx['fwdtransforms'], 'invtransforms': mytx['invtransforms']}\n",
    "    with open(str(out_path / f'{exp_name}_outs.json'), 'w') as f:\n",
    "        json.dump(save_dict, f)\n",
    "    # save warped images\n",
    "    warped_image = ants.apply_transforms(fixed=fi, moving=mi, transformlist=mytx['fwdtransforms'])\n",
    "    ants.image_write(warped_image, str(out_path / f'{exp_name}_r1topd25_warped.nii'))\n",
    "    warped_image = ants.apply_transforms(fixed=mi, moving=fi, transformlist=mytx['invtransforms'])\n",
    "    ants.image_write(warped_image, str(out_path / f'{exp_name}_pd25tor1_warped.nii'))\n",
    "    # warp atlas\n",
    "    warped_atlas = ants.apply_transforms(fixed=mi, moving=pdlabels_img, transformlist=mytx['invtransforms'], interpolator='genericLabel')\n",
    "    ants.image_write(warped_atlas, str(out_path / f'{exp_name}_pd25tor1_warped_atlas.nii'))\n",
    "    if idx > 1:\n",
    "        break"
   ]
  },
  {
   "cell_type": "code",
   "execution_count": 3,
   "metadata": {},
   "outputs": [
    {
     "data": {
      "text/plain": [
       "'antsRegistrationSyNQuick.sh -d 3 -f /mnt/projects/7TPD/bids/derivatives/hMRI_acu/mni_PD25_20170213_nifti/PD25-T1MPRAGE-template-1mm.nii -r 32 -m /mnt/projects/7TPD/bids/derivatives/hMRI_acu/derivatives/hMRI/sub-003/Results/brain_masked/sub-003_ses-01prisma3t_echo-01_part-magnitude-acq-MToff_MPM_R1_w.nii -n 8 -o ants_test -p d -s 26 -t s'"
      ]
     },
     "execution_count": 3,
     "metadata": {},
     "output_type": "execute_result"
    }
   ],
   "source": [
    "reg = ants.RegistrationSynQuick()\n",
    "reg.inputs.fixed_image = str(mov_img_path)\n",
    "reg.inputs.moving_image = subj_paths[0]\n",
    "reg.inputs.output_prefix = 'ants_test'\n",
    "reg.inputs.num_threads = 8\n",
    "reg.cmdline"
   ]
  },
  {
   "cell_type": "code",
   "execution_count": 5,
   "metadata": {},
   "outputs": [
    {
     "name": "stderr",
     "output_type": "stream",
     "text": [
      "bash: line 2: syntax error: unexpected end of file\n"
     ]
    },
    {
     "ename": "CalledProcessError",
     "evalue": "Command 'b'reg.run()\\n'' returned non-zero exit status 2.",
     "output_type": "error",
     "traceback": [
      "\u001b[0;31m---------------------------------------------------------------------------\u001b[0m",
      "\u001b[0;31mCalledProcessError\u001b[0m                        Traceback (most recent call last)",
      "Cell \u001b[0;32mIn[5], line 1\u001b[0m\n\u001b[0;32m----> 1\u001b[0m get_ipython()\u001b[39m.\u001b[39;49mrun_cell_magic(\u001b[39m'\u001b[39;49m\u001b[39mbash\u001b[39;49m\u001b[39m'\u001b[39;49m, \u001b[39m'\u001b[39;49m\u001b[39m'\u001b[39;49m, \u001b[39m'\u001b[39;49m\u001b[39mreg.run()\u001b[39;49m\u001b[39m\\n\u001b[39;49;00m\u001b[39m'\u001b[39;49m)\n",
      "File \u001b[0;32m~/anaconda3/envs/7tpd/lib/python3.9/site-packages/IPython/core/interactiveshell.py:2430\u001b[0m, in \u001b[0;36mInteractiveShell.run_cell_magic\u001b[0;34m(self, magic_name, line, cell)\u001b[0m\n\u001b[1;32m   2428\u001b[0m \u001b[39mwith\u001b[39;00m \u001b[39mself\u001b[39m\u001b[39m.\u001b[39mbuiltin_trap:\n\u001b[1;32m   2429\u001b[0m     args \u001b[39m=\u001b[39m (magic_arg_s, cell)\n\u001b[0;32m-> 2430\u001b[0m     result \u001b[39m=\u001b[39m fn(\u001b[39m*\u001b[39;49margs, \u001b[39m*\u001b[39;49m\u001b[39m*\u001b[39;49mkwargs)\n\u001b[1;32m   2432\u001b[0m \u001b[39m# The code below prevents the output from being displayed\u001b[39;00m\n\u001b[1;32m   2433\u001b[0m \u001b[39m# when using magics with decodator @output_can_be_silenced\u001b[39;00m\n\u001b[1;32m   2434\u001b[0m \u001b[39m# when the last Python token in the expression is a ';'.\u001b[39;00m\n\u001b[1;32m   2435\u001b[0m \u001b[39mif\u001b[39;00m \u001b[39mgetattr\u001b[39m(fn, magic\u001b[39m.\u001b[39mMAGIC_OUTPUT_CAN_BE_SILENCED, \u001b[39mFalse\u001b[39;00m):\n",
      "File \u001b[0;32m~/anaconda3/envs/7tpd/lib/python3.9/site-packages/IPython/core/magics/script.py:153\u001b[0m, in \u001b[0;36mScriptMagics._make_script_magic.<locals>.named_script_magic\u001b[0;34m(line, cell)\u001b[0m\n\u001b[1;32m    151\u001b[0m \u001b[39melse\u001b[39;00m:\n\u001b[1;32m    152\u001b[0m     line \u001b[39m=\u001b[39m script\n\u001b[0;32m--> 153\u001b[0m \u001b[39mreturn\u001b[39;00m \u001b[39mself\u001b[39;49m\u001b[39m.\u001b[39;49mshebang(line, cell)\n",
      "File \u001b[0;32m~/anaconda3/envs/7tpd/lib/python3.9/site-packages/IPython/core/magics/script.py:305\u001b[0m, in \u001b[0;36mScriptMagics.shebang\u001b[0;34m(self, line, cell)\u001b[0m\n\u001b[1;32m    300\u001b[0m \u001b[39mif\u001b[39;00m args\u001b[39m.\u001b[39mraise_error \u001b[39mand\u001b[39;00m p\u001b[39m.\u001b[39mreturncode \u001b[39m!=\u001b[39m \u001b[39m0\u001b[39m:\n\u001b[1;32m    301\u001b[0m     \u001b[39m# If we get here and p.returncode is still None, we must have\u001b[39;00m\n\u001b[1;32m    302\u001b[0m     \u001b[39m# killed it but not yet seen its return code. We don't wait for it,\u001b[39;00m\n\u001b[1;32m    303\u001b[0m     \u001b[39m# in case it's stuck in uninterruptible sleep. -9 = SIGKILL\u001b[39;00m\n\u001b[1;32m    304\u001b[0m     rc \u001b[39m=\u001b[39m p\u001b[39m.\u001b[39mreturncode \u001b[39mor\u001b[39;00m \u001b[39m-\u001b[39m\u001b[39m9\u001b[39m\n\u001b[0;32m--> 305\u001b[0m     \u001b[39mraise\u001b[39;00m CalledProcessError(rc, cell)\n",
      "\u001b[0;31mCalledProcessError\u001b[0m: Command 'b'reg.run()\\n'' returned non-zero exit status 2."
     ]
    }
   ],
   "source": [
    "%%bash\n",
    "reg.run()"
   ]
  }
 ],
 "metadata": {
  "kernelspec": {
   "display_name": "7tpd",
   "language": "python",
   "name": "python3"
  },
  "language_info": {
   "codemirror_mode": {
    "name": "ipython",
    "version": 3
   },
   "file_extension": ".py",
   "mimetype": "text/x-python",
   "name": "python",
   "nbconvert_exporter": "python",
   "pygments_lexer": "ipython3",
   "version": "3.9.16"
  },
  "orig_nbformat": 4
 },
 "nbformat": 4,
 "nbformat_minor": 2
}
